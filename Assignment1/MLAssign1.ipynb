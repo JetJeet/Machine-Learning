{
 "cells": [
  {
   "cell_type": "code",
   "execution_count": 1,
   "metadata": {
    "colab": {
     "base_uri": "https://localhost:8080/"
    },
    "executionInfo": {
     "elapsed": 1070,
     "status": "ok",
     "timestamp": 1662468641892,
     "user": {
      "displayName": "Harsh Ekbote",
      "userId": "12267371791678628924"
     },
     "user_tz": -330
    },
    "id": "sUL6q0yFvyyn",
    "outputId": "8f9e3822-7408-4f10-e999-16bc47c4278a"
   },
   "outputs": [
    {
     "name": "stdout",
     "output_type": "stream",
     "text": [
      "   Age  Sex     ChestPain  RestBP  Chol  Fbs  RestECG  MaxHR  ExAng  Oldpeak  \\\n",
      "1   63    1       typical     145   233    1        2    150      0      2.3   \n",
      "2   67    1  asymptomatic     160   286    0        2    108      1      1.5   \n",
      "3   67    1  asymptomatic     120   229    0        2    129      1      2.6   \n",
      "4   37    1    nonanginal     130   250    0        0    187      0      3.5   \n",
      "5   41    0    nontypical     130   204    0        2    172      0      1.4   \n",
      "\n",
      "   Slope   Ca        Thal  AHD  \n",
      "1      3  0.0       fixed   No  \n",
      "2      2  3.0      normal  Yes  \n",
      "3      2  2.0  reversable  Yes  \n",
      "4      3  0.0      normal   No  \n",
      "5      1  0.0      normal   No  \n",
      "\n"
     ]
    }
   ],
   "source": [
    "import pandas as pd\n",
    "import numpy as np\n",
    "import numpy.random as rd\n",
    "from sklearn.model_selection import train_test_split\n",
    "df=pd.read_csv('heart.csv', index_col=0)\n",
    "df = pd.DataFrame(df);\n",
    "print(df.head())\n",
    "print()"
   ]
  },
  {
   "cell_type": "code",
   "execution_count": 2,
   "metadata": {
    "colab": {
     "base_uri": "https://localhost:8080/"
    },
    "executionInfo": {
     "elapsed": 387,
     "status": "ok",
     "timestamp": 1662468647315,
     "user": {
      "displayName": "Harsh Ekbote",
      "userId": "12267371791678628924"
     },
     "user_tz": -330
    },
    "id": "NPIo8f9_wKeL",
    "outputId": "8d2512e9-5690-45d5-af34-3f2f56770e37"
   },
   "outputs": [
    {
     "name": "stdout",
     "output_type": "stream",
     "text": [
      "Shape:(303, 14)\n"
     ]
    }
   ],
   "source": [
    "#Find Shape\n",
    "print(f'Shape:{df.shape}')"
   ]
  },
  {
   "cell_type": "code",
   "execution_count": 3,
   "metadata": {
    "colab": {
     "base_uri": "https://localhost:8080/"
    },
    "executionInfo": {
     "elapsed": 4,
     "status": "ok",
     "timestamp": 1662468650529,
     "user": {
      "displayName": "Harsh Ekbote",
      "userId": "12267371791678628924"
     },
     "user_tz": -330
    },
    "id": "Xv5i0AVXwKrU",
    "outputId": "6d2ccf78-3425-4048-edbe-bbca7e323007"
   },
   "outputs": [
    {
     "name": "stdout",
     "output_type": "stream",
     "text": [
      "\n",
      "missing Value in Column Age :0\n",
      "\n",
      "missing Value in Column Sex :0\n",
      "\n",
      "missing Value in Column ChestPain :0\n",
      "\n",
      "missing Value in Column RestBP :0\n",
      "\n",
      "missing Value in Column Chol :0\n",
      "\n",
      "missing Value in Column Fbs :0\n",
      "\n",
      "missing Value in Column RestECG :0\n",
      "\n",
      "missing Value in Column MaxHR :0\n",
      "\n",
      "missing Value in Column ExAng :0\n",
      "\n",
      "missing Value in Column Oldpeak :0\n",
      "\n",
      "missing Value in Column Slope :0\n",
      "\n",
      "missing Value in Column Ca :4\n",
      "\n",
      "missing Value in Column Thal :2\n",
      "\n",
      "missing Value in Column AHD :0\n"
     ]
    }
   ],
   "source": [
    "#Missing Values\n",
    "for i in df:\n",
    "\tnull=df[i].isna().sum()\n",
    "\tprint(f'\\nmissing Value in Column {i} :{null}')"
   ]
  },
  {
   "cell_type": "code",
   "execution_count": 4,
   "metadata": {
    "colab": {
     "base_uri": "https://localhost:8080/"
    },
    "executionInfo": {
     "elapsed": 468,
     "status": "ok",
     "timestamp": 1662468655404,
     "user": {
      "displayName": "Harsh Ekbote",
      "userId": "12267371791678628924"
     },
     "user_tz": -330
    },
    "id": "z_betWc_wP1a",
    "outputId": "9cdacf44-eb0a-41b1-b4b6-fb9567d805e5"
   },
   "outputs": [
    {
     "name": "stdout",
     "output_type": "stream",
     "text": [
      "\n",
      "Datatypes of Column:\n",
      "Age            int64\n",
      "Sex            int64\n",
      "ChestPain     object\n",
      "RestBP         int64\n",
      "Chol           int64\n",
      "Fbs            int64\n",
      "RestECG        int64\n",
      "MaxHR          int64\n",
      "ExAng          int64\n",
      "Oldpeak      float64\n",
      "Slope          int64\n",
      "Ca           float64\n",
      "Thal          object\n",
      "AHD           object\n",
      "dtype: object\n"
     ]
    }
   ],
   "source": [
    "#datatype of Column\n",
    "datatype=df.dtypes\n",
    "print(f'\\nDatatypes of Column:\\n{datatype}')"
   ]
  },
  {
   "cell_type": "code",
   "execution_count": 5,
   "metadata": {
    "colab": {
     "base_uri": "https://localhost:8080/"
    },
    "executionInfo": {
     "elapsed": 383,
     "status": "ok",
     "timestamp": 1662468658984,
     "user": {
      "displayName": "Harsh Ekbote",
      "userId": "12267371791678628924"
     },
     "user_tz": -330
    },
    "id": "YeRMhFW6wQBy",
    "outputId": "a29ebe75-a350-4e89-adfe-57326ad2b9b3"
   },
   "outputs": [
    {
     "name": "stdout",
     "output_type": "stream",
     "text": [
      "Number of zeros in column Fbs is :258\n",
      "Number of zeros in column restECG is :151\n",
      "Number of zeros in column ExAng is :204\n",
      "Number of zeros in column Ca is :176\n",
      "Number of zeros in column oldpeak is :99\n",
      "Number of zeros in column Slope is :0\n"
     ]
    }
   ],
   "source": [
    "#number of Zeros in column\n",
    "col1=df['Fbs'].value_counts()[0]\n",
    "print(f'Number of zeros in column Fbs is :{col1}')\n",
    "col2=df['RestECG'].value_counts()[0]\n",
    "print(f'Number of zeros in column restECG is :{col2}')\n",
    "col3=df['ExAng'].value_counts()[0]\n",
    "print(f'Number of zeros in column ExAng is :{col3}')\n",
    "col4=df['Ca'].value_counts()[0]\n",
    "print(f'Number of zeros in column Ca is :{col4}')\n",
    "col5=df['Oldpeak'].value_counts()[0]\n",
    "print(f'Number of zeros in column oldpeak is :{col5}')\n",
    "col=df['Slope']\n",
    "col6=col[col==0].count()\n",
    "print(f'Number of zeros in column Slope is :{col6}')"
   ]
  },
  {
   "cell_type": "code",
   "execution_count": 6,
   "metadata": {
    "colab": {
     "base_uri": "https://localhost:8080/"
    },
    "executionInfo": {
     "elapsed": 394,
     "status": "ok",
     "timestamp": 1662468662976,
     "user": {
      "displayName": "Harsh Ekbote",
      "userId": "12267371791678628924"
     },
     "user_tz": -330
    },
    "id": "ZfPa_jTzwQLW",
    "outputId": "9360819e-bb76-48d2-f9b4-ef59d17065c5"
   },
   "outputs": [
    {
     "name": "stdout",
     "output_type": "stream",
     "text": [
      "Mean of Age:54.43894389438944\n",
      "\n"
     ]
    }
   ],
   "source": [
    "#Mean age of patients\n",
    "mean=df['Age'].mean()\n",
    "print(f'Mean of Age:{mean}\\n')\n"
   ]
  },
  {
   "cell_type": "code",
   "execution_count": 7,
   "metadata": {
    "colab": {
     "base_uri": "https://localhost:8080/"
    },
    "executionInfo": {
     "elapsed": 418,
     "status": "ok",
     "timestamp": 1662469015157,
     "user": {
      "displayName": "Harsh Ekbote",
      "userId": "12267371791678628924"
     },
     "user_tz": -330
    },
    "id": "7MFQadn_21mG",
    "outputId": "e56ed211-9ed7-4877-88ac-56909d093100"
   },
   "outputs": [
    {
     "name": "stdout",
     "output_type": "stream",
     "text": [
      "\n",
      "Dataset df \n",
      "\n",
      "Int64Index([160,  20, 236,   6, 251,  64, 191,  56, 299,  42,\n",
      "            ...\n",
      "            172,  50, 228,  33, 297,  96,  11,  18,  65, 178],\n",
      "           dtype='int64', length=227)\n",
      "     Age  Sex     ChestPain  RestBP  Chol  Fbs  RestECG  MaxHR  ExAng  \\\n",
      "160   68    1    nonanginal     118   277    0        0    151      0   \n",
      "20    49    1    nontypical     130   266    0        0    171      0   \n",
      "236   54    1  asymptomatic     122   286    0        2    116      1   \n",
      "6     56    1    nontypical     120   236    0        0    178      0   \n",
      "251   57    1  asymptomatic     110   201    0        0    126      1   \n",
      "..   ...  ...           ...     ...   ...  ...      ...    ...    ...   \n",
      "96    52    1  asymptomatic     128   255    0        0    161      1   \n",
      "11    57    1  asymptomatic     140   192    0        0    148      0   \n",
      "18    54    1  asymptomatic     140   239    0        0    160      0   \n",
      "65    54    1  asymptomatic     120   188    0        0    113      0   \n",
      "178   56    1  asymptomatic     132   184    0        2    105      1   \n",
      "\n",
      "     Oldpeak  Slope   Ca        Thal  AHD  \n",
      "160      1.0      1  1.0  reversable   No  \n",
      "20       0.6      1  0.0      normal   No  \n",
      "236      3.2      2  2.0      normal  Yes  \n",
      "6        0.8      1  0.0      normal   No  \n",
      "251      1.5      2  0.0       fixed   No  \n",
      "..       ...    ...  ...         ...  ...  \n",
      "96       0.0      1  1.0  reversable  Yes  \n",
      "11       0.4      2  0.0       fixed   No  \n",
      "18       1.2      1  0.0      normal   No  \n",
      "65       1.4      2  1.0  reversable  Yes  \n",
      "178      2.1      2  1.0       fixed  Yes  \n",
      "\n",
      "[227 rows x 14 columns]\n",
      "     Age  Sex     ChestPain  RestBP  Chol  Fbs  RestECG  MaxHR  ExAng  \\\n",
      "7     62    0  asymptomatic     140   268    0        2    160      0   \n",
      "21    64    1       typical     110   211    0        2    144      1   \n",
      "22    58    0       typical     150   283    1        2    162      0   \n",
      "25    60    1  asymptomatic     130   206    0        2    132      1   \n",
      "27    58    0    nonanginal     120   340    0        0    172      0   \n",
      "..   ...  ...           ...     ...   ...  ...      ...    ...    ...   \n",
      "284   35    1    nontypical     122   192    0        0    174      0   \n",
      "292   55    0    nontypical     132   342    0        0    166      0   \n",
      "298   57    0  asymptomatic     140   241    0        0    123      1   \n",
      "300   68    1  asymptomatic     144   193    1        0    141      0   \n",
      "303   38    1    nonanginal     138   175    0        0    173      0   \n",
      "\n",
      "     Oldpeak  Slope   Ca        Thal  AHD  \n",
      "7        3.6      3  2.0      normal  Yes  \n",
      "21       1.8      2  0.0      normal   No  \n",
      "22       1.0      1  0.0      normal   No  \n",
      "25       2.4      2  2.0  reversable  Yes  \n",
      "27       0.0      1  0.0      normal   No  \n",
      "..       ...    ...  ...         ...  ...  \n",
      "284      0.0      1  0.0      normal   No  \n",
      "292      1.2      1  0.0      normal   No  \n",
      "298      0.2      2  0.0  reversable  Yes  \n",
      "300      3.4      2  2.0  reversable  Yes  \n",
      "303      0.0      1  NaN      normal   No  \n",
      "\n",
      "[76 rows x 14 columns]\n"
     ]
    }
   ],
   "source": [
    "#Divide dataset in 75% and 25% randomly\n",
    "print(\"\\nDataset df \\n\")\n",
    "train1=df.sample(frac=0.75)\n",
    "print(train1.index)\n",
    "test1=df.drop(train1.index)\n",
    "print(train1)\n",
    "print(test1)\n"
   ]
  },
  {
   "cell_type": "code",
   "execution_count": 8,
   "metadata": {
    "colab": {
     "base_uri": "https://localhost:8080/"
    },
    "executionInfo": {
     "elapsed": 375,
     "status": "ok",
     "timestamp": 1662469021022,
     "user": {
      "displayName": "Harsh Ekbote",
      "userId": "12267371791678628924"
     },
     "user_tz": -330
    },
    "id": "we4zlAuO21o5",
    "outputId": "99204c15-af37-44e1-ed37-dbe82968bded"
   },
   "outputs": [
    {
     "name": "stdout",
     "output_type": "stream",
     "text": [
      "X\n",
      "    Age  Sex     ChestPain  RestBP  Chol\n",
      "1   63    1       typical     145   233\n",
      "2   67    1  asymptomatic     160   286\n",
      "3   67    1  asymptomatic     120   229\n",
      "4   37    1    nonanginal     130   250\n",
      "5   41    0    nontypical     130   204\n"
     ]
    }
   ],
   "source": [
    "#X will contain columns [age,sex,chestpain,restbp,chol]\n",
    "X=df[['Age','Sex','ChestPain','RestBP','Chol']]\n",
    "print('X\\n',X.head()) "
   ]
  },
  {
   "cell_type": "code",
   "execution_count": 9,
   "metadata": {
    "colab": {
     "base_uri": "https://localhost:8080/"
    },
    "executionInfo": {
     "elapsed": 701,
     "status": "ok",
     "timestamp": 1662469024837,
     "user": {
      "displayName": "Harsh Ekbote",
      "userId": "12267371791678628924"
     },
     "user_tz": -330
    },
    "id": "SY8BXrmA21sW",
    "outputId": "94f91eee-623d-477d-9a44-005dce634107"
   },
   "outputs": [
    {
     "name": "stdout",
     "output_type": "stream",
     "text": [
      "\n",
      "Dataset X \n",
      "\n",
      "--------------- Train dataset of X ----------------------------\n",
      "     Age  Sex     ChestPain  RestBP  Chol\n",
      "170   45    0    nontypical     112   160\n",
      "286   58    1  asymptomatic     114   318\n",
      "242   41    0    nontypical     126   306\n",
      "187   42    1    nonanginal     120   240\n",
      "153   67    0    nonanginal     115   564\n",
      "..   ...  ...           ...     ...   ...\n",
      "132   51    1    nonanginal      94   227\n",
      "250   62    1    nontypical     128   208\n",
      "253   64    1  asymptomatic     128   263\n",
      "271   61    1  asymptomatic     140   207\n",
      "127   56    0  asymptomatic     200   288\n",
      "\n",
      "[227 rows x 5 columns]\n",
      "--------------- Test dataset of X ----------------------------\n",
      "     Age  Sex     ChestPain  RestBP  Chol\n",
      "1     63    1       typical     145   233\n",
      "3     67    1  asymptomatic     120   229\n",
      "4     37    1    nonanginal     130   250\n",
      "18    54    1  asymptomatic     140   239\n",
      "20    49    1    nontypical     130   266\n",
      "..   ...  ...           ...     ...   ...\n",
      "278   39    0    nonanginal     138   220\n",
      "282   47    1    nonanginal     130   253\n",
      "288   58    1    nontypical     125   220\n",
      "289   56    1    nontypical     130   221\n",
      "297   59    1  asymptomatic     164   176\n",
      "\n",
      "[76 rows x 5 columns]\n"
     ]
    }
   ],
   "source": [
    "#divide above dataset X randomly 75% and 25%\n",
    "print(\"\\nDataset X \\n\")\n",
    "trainx=X.sample(frac=0.75)\n",
    "testx=X.drop(trainx.index)\n",
    "print(\"--------------- Train dataset of X ----------------------------\")\n",
    "print(trainx)\n",
    "print(\"--------------- Test dataset of X ----------------------------\")\n",
    "print(testx)"
   ]
  },
  {
   "cell_type": "code",
   "execution_count": 10,
   "metadata": {},
   "outputs": [
    {
     "name": "stdout",
     "output_type": "stream",
     "text": [
      "--------------- Train dataset of y ----------------------------\n",
      "     AHD\n",
      "302  Yes\n",
      "156  Yes\n",
      "230  Yes\n",
      "91    No\n",
      "72   Yes\n",
      "..   ...\n",
      "149   No\n",
      "194  Yes\n",
      "150   No\n",
      "193  Yes\n",
      "219   No\n",
      "\n",
      "[227 rows x 1 columns]\n",
      "--------------- Test dataset of y ----------------------------\n",
      "     AHD\n",
      "4     No\n",
      "7    Yes\n",
      "8     No\n",
      "11    No\n",
      "13   Yes\n",
      "..   ...\n",
      "292   No\n",
      "296   No\n",
      "297  Yes\n",
      "298  Yes\n",
      "303   No\n",
      "\n",
      "[76 rows x 1 columns]\n"
     ]
    }
   ],
   "source": [
    "# dividing training and testing data form dataset y\n",
    "\n",
    "Y = df[[\"AHD\"]]\n",
    "\n",
    "trainY=Y.sample(frac=0.75)\n",
    "testY=Y.drop(trainY.index)\n",
    "print(\"--------------- Train dataset of y ----------------------------\")\n",
    "print(trainY)\n",
    "print(\"--------------- Test dataset of y ----------------------------\")\n",
    "print(testY)"
   ]
  },
  {
   "cell_type": "code",
   "execution_count": 11,
   "metadata": {
    "colab": {
     "base_uri": "https://localhost:8080/"
    },
    "executionInfo": {
     "elapsed": 2,
     "status": "ok",
     "timestamp": 1662469076248,
     "user": {
      "displayName": "Harsh Ekbote",
      "userId": "12267371791678628924"
     },
     "user_tz": -330
    },
    "id": "2B6ojTpQ0Ode",
    "outputId": "cd9a6d49-db24-41f1-f98b-a8d464647e68"
   },
   "outputs": [
    {
     "name": "stdout",
     "output_type": "stream",
     "text": [
      "(227, 13)\n",
      "(227,)\n",
      "(76, 13)\n",
      "(76,)\n"
     ]
    }
   ],
   "source": [
    "# Now splitting dataset df into x and y using iloc and using train_test_split to divide dataset randomly\n",
    "x=df.iloc[:, :-1].values\n",
    "y=df.iloc[:, -1].values\n",
    "x_train,x_test,y_train,y_test=train_test_split(x,y,test_size=0.25,random_state=0)\n",
    "print(x_train.shape)\n",
    "print(y_train.shape)\n",
    "print(x_test.shape)\n",
    "print(y_test.shape)"
   ]
  },
  {
   "cell_type": "code",
   "execution_count": 12,
   "metadata": {},
   "outputs": [
    {
     "data": {
      "text/html": [
       "<div>\n",
       "<style scoped>\n",
       "    .dataframe tbody tr th:only-of-type {\n",
       "        vertical-align: middle;\n",
       "    }\n",
       "\n",
       "    .dataframe tbody tr th {\n",
       "        vertical-align: top;\n",
       "    }\n",
       "\n",
       "    .dataframe thead th {\n",
       "        text-align: right;\n",
       "    }\n",
       "</style>\n",
       "<table border=\"1\" class=\"dataframe\">\n",
       "  <thead>\n",
       "    <tr style=\"text-align: right;\">\n",
       "      <th></th>\n",
       "      <th>AHD</th>\n",
       "    </tr>\n",
       "  </thead>\n",
       "  <tbody>\n",
       "    <tr>\n",
       "      <th>1</th>\n",
       "      <td>0</td>\n",
       "    </tr>\n",
       "    <tr>\n",
       "      <th>2</th>\n",
       "      <td>1</td>\n",
       "    </tr>\n",
       "    <tr>\n",
       "      <th>3</th>\n",
       "      <td>1</td>\n",
       "    </tr>\n",
       "    <tr>\n",
       "      <th>4</th>\n",
       "      <td>0</td>\n",
       "    </tr>\n",
       "    <tr>\n",
       "      <th>5</th>\n",
       "      <td>0</td>\n",
       "    </tr>\n",
       "    <tr>\n",
       "      <th>...</th>\n",
       "      <td>...</td>\n",
       "    </tr>\n",
       "    <tr>\n",
       "      <th>299</th>\n",
       "      <td>1</td>\n",
       "    </tr>\n",
       "    <tr>\n",
       "      <th>300</th>\n",
       "      <td>1</td>\n",
       "    </tr>\n",
       "    <tr>\n",
       "      <th>301</th>\n",
       "      <td>1</td>\n",
       "    </tr>\n",
       "    <tr>\n",
       "      <th>302</th>\n",
       "      <td>1</td>\n",
       "    </tr>\n",
       "    <tr>\n",
       "      <th>303</th>\n",
       "      <td>0</td>\n",
       "    </tr>\n",
       "  </tbody>\n",
       "</table>\n",
       "<p>303 rows × 1 columns</p>\n",
       "</div>"
      ],
      "text/plain": [
       "     AHD\n",
       "1      0\n",
       "2      1\n",
       "3      1\n",
       "4      0\n",
       "5      0\n",
       "..   ...\n",
       "299    1\n",
       "300    1\n",
       "301    1\n",
       "302    1\n",
       "303    0\n",
       "\n",
       "[303 rows x 1 columns]"
      ]
     },
     "execution_count": 12,
     "metadata": {},
     "output_type": "execute_result"
    }
   ],
   "source": [
    "# Replacing Yes with 1 and No with 0\n",
    "Y = Y.replace([\"Yes\", \"No\"], [1, 0])\n",
    "Y"
   ]
  },
  {
   "cell_type": "code",
   "execution_count": null,
   "metadata": {},
   "outputs": [],
   "source": []
  }
 ],
 "metadata": {
  "colab": {
   "authorship_tag": "ABX9TyObh6+I04bF5dmpwRKvJlk9",
   "collapsed_sections": [],
   "provenance": []
  },
  "kernelspec": {
   "display_name": "Python 3 (ipykernel)",
   "language": "python",
   "name": "python3"
  },
  "language_info": {
   "codemirror_mode": {
    "name": "ipython",
    "version": 3
   },
   "file_extension": ".py",
   "mimetype": "text/x-python",
   "name": "python",
   "nbconvert_exporter": "python",
   "pygments_lexer": "ipython3",
   "version": "3.10.2"
  }
 },
 "nbformat": 4,
 "nbformat_minor": 1
}
